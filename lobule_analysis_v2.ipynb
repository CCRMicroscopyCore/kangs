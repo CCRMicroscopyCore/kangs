{
 "cells": [
  {
   "cell_type": "markdown",
   "id": "007c88b5",
   "metadata": {},
   "source": [
    "# Liver lobule analysis\n",
    "### For Natalie Porat-Shliom lab\n",
    "\n",
    "### 12/07/23\n",
    "### Author: Andy D. Tran, CCR Microscopy Core, LCBG, CCR, NCI\n",
    "\n",
    "### Use Cellpose models for cell, mitochondria, and lipid droplet segmentation. Generate EDT maps for\n",
    "### user-defined central and portal veins. Output intensity, geometric and spatial parameters."
   ]
  },
  {
   "cell_type": "markdown",
   "id": "6b66e25f",
   "metadata": {},
   "source": [
    "### ----------------------------------------------------------------------------\n",
    "### Navigation\n",
    "\n",
    "[Segmentation and quantification](#main_function)\n",
    "    \n",
    "[Load existing segmentation](#alt_function)\n",
    "\n",
    "[Quantification](#quantification)\n"
   ]
  },
  {
   "cell_type": "code",
   "execution_count": 1,
   "id": "10ab9585",
   "metadata": {},
   "outputs": [],
   "source": [
    "# Import libraries--------------------------------------------------------------------------------\n",
    "import os \n",
    "import numpy as np \n",
    "import cv2\n",
    "import pandas as pd \n",
    "import napari \n",
    "import re\n",
    "\n",
    "from scipy import ndimage as nd \n",
    "from tifffile import imread, imwrite\n",
    "from skimage.measure import regionprops\n",
    "from tqdm import tqdm\n",
    "from cellpose import models, io"
   ]
  },
  {
   "cell_type": "code",
   "execution_count": 2,
   "id": "6f4f5183",
   "metadata": {},
   "outputs": [],
   "source": [
    "# Define functions---------------------------------------------------------------------------------\n",
    "def model_apply(model, img):\n",
    "    mask, flows, style = model.eval(img, channels = [0, 0])\n",
    "    \n",
    "    return mask\n",
    "\n",
    "def object_quant(lbl_img, lipid_img):\n",
    "    df = pd.DataFrame() \n",
    "    \n",
    "    roi_id = [] \n",
    "    lipid_int = [] \n",
    "    \n",
    "    roiprops = regionprops(lbl_img, intensity_image = lipid_img)\n",
    "    \n",
    "    for roi in tqdm(range(len(roiprops))):\n",
    "        roi_id.append(roiprops[roi].label)\n",
    "        lipid_int.append(roiprops[roi].mean_intensity)\n",
    "        \n",
    "    df['roi_id'] = roi_id\n",
    "    df['lipid_int'] = lipid_int\n",
    "    \n",
    "    return df\n",
    "\n",
    "def object_filter(lbl_img, int_df, int_thresh):\n",
    "    roi_id = lbl_img.reshape(-1)\n",
    "    \n",
    "    mask_df = pd.DataFrame()\n",
    "    mask_df['roi_id'] = roi_id\n",
    "    mask_df = pd.merge(mask_df, int_df, how = 'left', on = ['roi_id'])\n",
    "    \n",
    "    mask_tmp = mask_df['lipid_int'].to_numpy()\n",
    "    mask_tmp = mask_tmp.reshape(lbl_img.shape)\n",
    "    \n",
    "    mask = np.where(mask_tmp <= int_thresh, 0, lbl_img)\n",
    "    \n",
    "    return mask\n",
    "\n",
    "def roi_quant(lbl_img, cell_img, mito_img, lipid_img, cv_edt, pv_edt, organelle_edt):\n",
    "    df = pd.DataFrame() \n",
    "    \n",
    "    roi_id = [] \n",
    "    cell_id = [] \n",
    "    area = [] \n",
    "    perimeter = []\n",
    "    eccentricity = [] \n",
    "    solidity = [] \n",
    "    axis_major_length = []\n",
    "    axis_minor_length = [] \n",
    "    feret_diameter_max = [] \n",
    "    centroid_x = [] \n",
    "    centroid_y = [] \n",
    "    mito_int = [] \n",
    "    lipid_int = [] \n",
    "    cv_min_dist = [] \n",
    "    cv_max_dist = [] \n",
    "    cv_mean_dist = [] \n",
    "    pv_min_dist = [] \n",
    "    pv_max_dist = [] \n",
    "    pv_mean_dist = []\n",
    "    organelle_min_dist = []\n",
    "    organelle_max_dist = [] \n",
    "    organelle_mean_dist = [] \n",
    "    \n",
    "    cellprops = regionprops(lbl_img, intensity_image = cell_img)\n",
    "    mitoprops = regionprops(lbl_img, intensity_image = mito_img)\n",
    "    lipidprops = regionprops(lbl_img, intensity_image = lipid_img)\n",
    "    cvprops = regionprops(lbl_img, intensity_image = cv_edt)\n",
    "    pvprops = regionprops(lbl_img, intensity_image = pv_edt)\n",
    "    organelleprops = regionprops(lbl_img, intensity_image = organelle_edt)\n",
    "    \n",
    "    for roi in tqdm(range(len(cellprops))):\n",
    "        roi_id.append(cellprops[roi].label)\n",
    "        cell_id.append(round(cellprops[roi].mean_intensity))\n",
    "        area.append(cellprops[roi].area)\n",
    "        perimeter.append(cellprops[roi].perimeter)\n",
    "        eccentricity.append(cellprops[roi].eccentricity)\n",
    "        solidity.append(cellprops[roi].solidity)\n",
    "        axis_major_length.append(cellprops[roi].axis_major_length)\n",
    "        axis_minor_length.append(cellprops[roi].axis_minor_length)\n",
    "        feret_diameter_max.append(cellprops[roi].feret_diameter_max)\n",
    "        centroid_x.append(cellprops[roi].centroid[1])\n",
    "        centroid_y.append(cellprops[roi].centroid[0])\n",
    "        mito_int.append(mitoprops[roi].mean_intensity)\n",
    "        lipid_int.append(lipidprops[roi].mean_intensity)\n",
    "        cv_min_dist.append(cvprops[roi].min_intensity)\n",
    "        cv_max_dist.append(cvprops[roi].max_intensity)\n",
    "        cv_mean_dist.append(cvprops[roi].mean_intensity)\n",
    "        pv_min_dist.append(pvprops[roi].min_intensity)\n",
    "        pv_max_dist.append(pvprops[roi].max_intensity)\n",
    "        pv_mean_dist.append(pvprops[roi].mean_intensity)\n",
    "        organelle_min_dist.append(organelleprops[roi].min_intensity)\n",
    "        organelle_max_dist.append(organelleprops[roi].max_intensity)\n",
    "        organelle_mean_dist.append(organelleprops[roi].mean_intensity)\n",
    "        \n",
    "    df['roi_id'] = roi_id\n",
    "    df['cell_id'] = cell_id\n",
    "    df['area'] = area\n",
    "    df['perimeter'] = perimeter\n",
    "    df['eccentricity'] = eccentricity\n",
    "    df['solidity'] = solidity\n",
    "    df['axis_major_length'] = axis_major_length\n",
    "    df['axis_minor_length'] = axis_minor_length\n",
    "    df['feret_diameter_max'] = feret_diameter_max\n",
    "    df['centroid_x'] = centroid_x\n",
    "    df['centroid_y'] = centroid_y\n",
    "    df['mito_int'] = mito_int\n",
    "    df['lipid_int'] = lipid_int\n",
    "    df['cv_min_dist'] = cv_min_dist\n",
    "    df['cv_max_dist'] = cv_max_dist\n",
    "    df['cv_mean_dist'] = cv_mean_dist\n",
    "    df['pv_min_dist'] = pv_min_dist\n",
    "    df['pv_max_dist'] = pv_max_dist\n",
    "    df['pv_mean_dist'] = pv_mean_dist\n",
    "    df['organelle_min_dist'] = organelle_min_dist\n",
    "    df['organelle_max_dist'] = organelle_max_dist\n",
    "    df['organelle_mean_dist'] = organelle_mean_dist\n",
    "    \n",
    "    return df "
   ]
  },
  {
   "cell_type": "markdown",
   "id": "15c2f189",
   "metadata": {},
   "source": [
    "### Segmentation and quantification mode\n",
    "\n",
    "<a id='main_function'></a>"
   ]
  },
  {
   "cell_type": "markdown",
   "id": "f4e3addf",
   "metadata": {},
   "source": [
    "### Set paths\n",
    "\n",
    "<a id='set_path'></a>"
   ]
  },
  {
   "cell_type": "code",
   "execution_count": 4,
   "id": "e3b63cfd",
   "metadata": {},
   "outputs": [
    {
     "name": "stdin",
     "output_type": "stream",
     "text": [
      "Cell model path:  Z:/Analysis/[NCI] [TGIMB] Natalie Porat-Shliom/Lauryn Brown/training/cell/models/brownl_cell_01\n",
      "Mito model path:  Z:/Analysis/[NCI] [TGIMB] Natalie Porat-Shliom/Lauryn Brown/training/mito/models/brownl_mito_03\n",
      "Lipid model path:  Z:/Analysis/[NCI] [TGIMB] Natalie Porat-Shliom/Lauryn Brown/training/lipid/models/brownl_lipid_01\n"
     ]
    }
   ],
   "source": [
    "# Define model paths--------------------------------------------------------------------------------------\n",
    "\n",
    "cell_model_path = input('Cell model path: ')\n",
    "mito_model_path = input('Mito model path: ')\n",
    "lipid_model_path = input('Lipid model path: ')"
   ]
  },
  {
   "cell_type": "code",
   "execution_count": 201,
   "id": "d863688e",
   "metadata": {},
   "outputs": [
    {
     "name": "stdin",
     "output_type": "stream",
     "text": [
      "Input path:  Z:\\Analysis\\[NCI] [TGIMB] Natalie Porat-Shliom\\Lauryn Brown\\images\\PLIN5 variants in ND\\PLIN5E (1-424)\n",
      "Output path:  Z:\\Analysis\\[NCI] [TGIMB] Natalie Porat-Shliom\\Lauryn Brown\\output\\PLIN5 variants in ND\\PLIN5E (1-424)\n"
     ]
    }
   ],
   "source": [
    "# Define file paths--------------------------------------------------------------------------\n",
    "\n",
    "input_path = input('Input path: ')\n",
    "output_path = input('Output path: ')"
   ]
  },
  {
   "cell_type": "code",
   "execution_count": 202,
   "id": "190613fc",
   "metadata": {},
   "outputs": [],
   "source": [
    "input_path = os.path.normpath(input_path)\n",
    "output_path = os.path.normpath(output_path)\n",
    "\n",
    "cell_model_path = os.path.normpath(cell_model_path)\n",
    "mito_model_path = os.path.normpath(mito_model_path)\n",
    "lipid_model_path = os.path.normpath(lipid_model_path)\n",
    "\n",
    "cell_model = models.CellposeModel(gpu = True, pretrained_model = cell_model_path)\n",
    "mito_model = models.CellposeModel(gpu = True, pretrained_model = mito_model_path)\n",
    "lipid_model = models.CellposeModel(gpu = True, pretrained_model = lipid_model_path)"
   ]
  },
  {
   "cell_type": "markdown",
   "id": "85928150-08b1-4f4b-ba3e-a8dc0a565ac3",
   "metadata": {},
   "source": [
    "### Load image\n",
    "\n",
    "<a id='load_cell'></a>"
   ]
  },
  {
   "cell_type": "code",
   "execution_count": 738,
   "id": "90d8413c",
   "metadata": {},
   "outputs": [
    {
     "name": "stdout",
     "output_type": "stream",
     "text": [
      "['3907C M1_L1_Cropped PP-PC Axis 1.tif', '3907C M1_L2_Cropped PP-PC Axis 2.tif', '3907C M1_L2_Cropped PP-PC Axis 3.tif', '3907C M1_L2_Cropped PP-PC Axis 4.tif', '3907C M1_L3_Cropped PP-PC Axis 5.tif', '3907C M1_L3_Cropped PP-PC Axis 6.tif', '3920E M2_L1_Cropped PP-Pc Axis 1.tif', '3920E M2_L1_Cropped PP-PC Axis 2.tif', '3920E M2_L1_Cropped PP-PC Axis 3.tif', '3920E M2_L1_Cropped PP-PC Axis 4.tif', '3920E M2_L2_Cropped PP-PC Axis 5.tif', '3920E M2_L2_Cropped PP-PC Axis 6.tif']\n",
      "12\n"
     ]
    },
    {
     "name": "stdin",
     "output_type": "stream",
     "text": [
      "Select image:  12\n"
     ]
    },
    {
     "name": "stdout",
     "output_type": "stream",
     "text": [
      "3920E M2_L2_Cropped PP-PC Axis 6.tif\n"
     ]
    }
   ],
   "source": [
    "# Load image-----------------------------------------------------------------------------------------------\n",
    "tmp_list = os.listdir(input_path)\n",
    "\n",
    "img_list = [] \n",
    "for tmp in tmp_list:\n",
    "    if re.search('.tif', tmp):\n",
    "        img_list.append(tmp)\n",
    "        \n",
    "print(img_list)\n",
    "print(len(img_list))\n",
    "img_index = input('Select image: ')\n",
    "img_index = int(img_index) - 1\n",
    "print(img_list[img_index])"
   ]
  },
  {
   "cell_type": "code",
   "execution_count": 739,
   "id": "9fbbc3d9",
   "metadata": {
    "scrolled": true
   },
   "outputs": [
    {
     "name": "stdout",
     "output_type": "stream",
     "text": [
      "(3, 1440, 5184)\n"
     ]
    }
   ],
   "source": [
    "img_path = os.path.join(input_path, img_list[img_index])\n",
    "img = imread(img_path)\n",
    "\n",
    "print(img.shape)\n",
    "\n",
    "viewer = napari.view_image(img)"
   ]
  },
  {
   "cell_type": "code",
   "execution_count": 740,
   "id": "987071b6",
   "metadata": {},
   "outputs": [
    {
     "name": "stdin",
     "output_type": "stream",
     "text": [
      "Input actin channel:  3\n",
      "Input mitochondria channel:  1\n",
      "Input lipid channel:  2\n"
     ]
    }
   ],
   "source": [
    "actin_ch_number = int(input('Input actin channel: ')) - 1\n",
    "mito_ch_number = int(input('Input mitochondria channel: ')) - 1\n",
    "lipid_ch_number = int(input('Input lipid channel: ')) - 1\n",
    "\n",
    "viewer.close()"
   ]
  },
  {
   "cell_type": "code",
   "execution_count": 741,
   "id": "15121184-c587-4509-bfb7-32738afe6a7e",
   "metadata": {
    "jp-MarkdownHeadingCollapsed": true
   },
   "outputs": [],
   "source": [
    "actin_img = img[actin_ch_number, :, :]\n",
    "mito_img = img[mito_ch_number, :, :]\n",
    "lipid_img = img[lipid_ch_number, :, :]"
   ]
  },
  {
   "cell_type": "markdown",
   "id": "8c4c3408",
   "metadata": {},
   "source": [
    "### Segmentation--------------------------------------------------------"
   ]
  },
  {
   "cell_type": "markdown",
   "id": "302b3146",
   "metadata": {},
   "source": [
    "###### Cell segmentation"
   ]
  },
  {
   "cell_type": "code",
   "execution_count": 742,
   "id": "0d900a41",
   "metadata": {},
   "outputs": [],
   "source": [
    "mito_tmp = nd.gaussian_filter(mito_img, sigma = 50)\n",
    "mito_tmp = mito_tmp * 3\n",
    "\n",
    "tmp_img = np.add(actin_img, mito_tmp)\n",
    "\n",
    "cell_mask = model_apply(cell_model, tmp_img)\n",
    "cell_mask = np.uint16(cell_mask)"
   ]
  },
  {
   "cell_type": "code",
   "execution_count": 743,
   "id": "8ee27cb0-d0c2-4b75-95bf-13c0a10734c3",
   "metadata": {},
   "outputs": [],
   "source": [
    "viewer = napari.view_image(actin_img, colormap = 'red', blending = 'additive')\n",
    "mito_layer = viewer.add_image(mito_img, colormap = 'green', blending = 'additive')\n",
    "cell_layer = viewer.add_labels(cell_mask)"
   ]
  },
  {
   "cell_type": "code",
   "execution_count": 744,
   "id": "2c3fa269",
   "metadata": {},
   "outputs": [],
   "source": [
    "cell_mask = viewer.layers['cell_mask'].data\n",
    "cell_mask = np.uint16(cell_mask)"
   ]
  },
  {
   "cell_type": "code",
   "execution_count": 745,
   "id": "0a5ec34d-45d4-4a97-851a-36e0edf983cb",
   "metadata": {},
   "outputs": [],
   "source": [
    "cell_mask_path = os.path.join(output_path, img_list[img_index].replace('.tif', '_cell.tif'))\n",
    "imwrite(cell_mask_path, cell_mask)\n",
    "\n",
    "viewer.close()"
   ]
  },
  {
   "cell_type": "code",
   "execution_count": 746,
   "id": "885d26ba",
   "metadata": {},
   "outputs": [],
   "source": [
    "#cell_mask_path = os.path.join(output_path, img_list[img_index].replace('.tif', '_cell.tif'))\n",
    "#\n",
    "#cell_mask = imread(cell_mask_path)"
   ]
  },
  {
   "cell_type": "markdown",
   "id": "bab0584b",
   "metadata": {},
   "source": [
    "###### Mitochondria segmentation"
   ]
  },
  {
   "cell_type": "code",
   "execution_count": 747,
   "id": "9a20ecf8",
   "metadata": {},
   "outputs": [],
   "source": [
    "mito_mask = model_apply(mito_model, mito_img)\n",
    "mito_mask = np.uint16(mito_mask)"
   ]
  },
  {
   "cell_type": "code",
   "execution_count": 748,
   "id": "71d24fcf-6fe6-476d-b7d1-43d27b540ffe",
   "metadata": {},
   "outputs": [],
   "source": [
    "viewer = napari.view_image(mito_img, colormap = 'green', blending = 'additive')\n",
    "mito_layer = viewer.add_labels(mito_mask)"
   ]
  },
  {
   "cell_type": "code",
   "execution_count": 749,
   "id": "a85c95de-8849-4018-b1ca-2da1bf2ad8d0",
   "metadata": {},
   "outputs": [],
   "source": [
    "mito_mask_path = os.path.join(output_path, img_list[img_index].replace('.tif', '_mito.tif'))\n",
    "imwrite(mito_mask_path, mito_mask)\n",
    "\n",
    "viewer.close()"
   ]
  },
  {
   "cell_type": "code",
   "execution_count": 750,
   "id": "66ed224a",
   "metadata": {},
   "outputs": [],
   "source": [
    "#mito_mask_path = os.path.join(output_path, img_list[img_index].replace('.tif', '_mito.tif'))\n",
    "#\n",
    "#mito_mask = imread(mito_mask_path)"
   ]
  },
  {
   "cell_type": "markdown",
   "id": "a4827c18-922c-4a17-85f2-375936254a6f",
   "metadata": {},
   "source": [
    "###### Lipid segmentation"
   ]
  },
  {
   "cell_type": "code",
   "execution_count": null,
   "id": "a8c400aa-a5ac-4569-b4cd-ae23dc083092",
   "metadata": {},
   "outputs": [],
   "source": [
    "lipid_mask_tmp = model_apply(lipid_model, lipid_img)\n",
    "lipid_mask_tmp = np.uint16(lipid_mask_tmp)\n",
    "\n",
    "lipid_df_tmp = object_quant(lipid_mask_tmp, lipid_img)\n",
    "lipid_mask = object_filter(lipid_mask_tmp, lipid_df_tmp, 10)"
   ]
  },
  {
   "cell_type": "code",
   "execution_count": 704,
   "id": "2e0a6bf9-033b-48dc-a335-f9d73b706da0",
   "metadata": {},
   "outputs": [],
   "source": [
    "viewer = napari.view_image(lipid_img, colormap = 'magenta', blending = 'additive')\n",
    "lipid_layer = viewer.add_labels(lipid_mask)"
   ]
  },
  {
   "cell_type": "code",
   "execution_count": 705,
   "id": "a2f73f11",
   "metadata": {},
   "outputs": [],
   "source": [
    "lipid_mask = viewer.layers['lipid_mask'].data"
   ]
  },
  {
   "cell_type": "code",
   "execution_count": 706,
   "id": "3428373d-1505-4b1b-ab2d-0194a9c8c167",
   "metadata": {},
   "outputs": [],
   "source": [
    "lipid_mask_path = os.path.join(output_path, img_list[img_index].replace('.tif', '_lipid.tif'))\n",
    "imwrite(lipid_mask_path, lipid_mask)\n",
    "\n",
    "viewer.close()"
   ]
  },
  {
   "cell_type": "code",
   "execution_count": 707,
   "id": "d0230719",
   "metadata": {},
   "outputs": [],
   "source": [
    "#lipid_mask_path = os.path.join(output_path, img_list[img_index].replace('.tif', '_lipid.tif'))\n",
    "\n",
    "#lipid_mask = imread(lipid_mask_path)"
   ]
  },
  {
   "cell_type": "markdown",
   "id": "076e667e",
   "metadata": {},
   "source": [
    "### Organelle overlap----------------------------------------"
   ]
  },
  {
   "cell_type": "code",
   "execution_count": 708,
   "id": "5e290e9f",
   "metadata": {},
   "outputs": [],
   "source": [
    "mito_binary = np.where(mito_mask > 0, 1, 0)\n",
    "lipid_binary = np.where(lipid_mask > 0 , 1, 0)\n",
    "\n",
    "overlap_tmp = np.add(mito_binary, lipid_binary)\n",
    "overlap_mask = np.where(overlap_tmp == 2, cell_mask, 0)"
   ]
  },
  {
   "cell_type": "code",
   "execution_count": 709,
   "id": "8c72ca71",
   "metadata": {},
   "outputs": [],
   "source": [
    "viewer = napari.view_image(actin_img, colormap = 'red', blending = 'additive')\n",
    "mito_layer = viewer.add_image(mito_img, colormap = 'green', blending = 'additive')\n",
    "lipid_layer = viewer.add_image(lipid_img, colormap = 'magenta', blending = 'additive')\n",
    "overlap_layer = viewer.add_labels(overlap_mask)\n",
    "cell_layer = viewer.add_labels(cell_mask)"
   ]
  },
  {
   "cell_type": "code",
   "execution_count": 710,
   "id": "e397011b",
   "metadata": {},
   "outputs": [],
   "source": [
    "overlap_mask_path = os.path.join(output_path, img_list[img_index].replace('.tif', '_overlap.tif'))\n",
    "imwrite(overlap_mask_path, overlap_mask)\n",
    "\n",
    "viewer.close()"
   ]
  },
  {
   "cell_type": "code",
   "execution_count": 711,
   "id": "6a5ea0fe",
   "metadata": {},
   "outputs": [],
   "source": [
    "#overlap_mask_path = os.path.join(output_path, img_list[img_index].replace('.tif', '_overlap.tif'))\n",
    "#\n",
    "#overlap_mask = imread(overlap_mask_path)"
   ]
  },
  {
   "cell_type": "markdown",
   "id": "debced3d-8491-44a1-95aa-5c2f15f4ac14",
   "metadata": {},
   "source": [
    "### EDT maps--------------------------------------------------"
   ]
  },
  {
   "cell_type": "markdown",
   "id": "d0921920-a4d5-40c9-ac61-0209dd3282a3",
   "metadata": {},
   "source": [
    "###### Central vein EDT map"
   ]
  },
  {
   "cell_type": "code",
   "execution_count": 712,
   "id": "4c799ff4-b971-43e6-aa28-2945ea7e38b7",
   "metadata": {},
   "outputs": [],
   "source": [
    "viewer = napari.view_image(actin_img, colormap = 'red', blending = 'additive')\n",
    "mito_layer = viewer.add_image(mito_img, colormap = 'green', blending = 'additive')\n",
    "lipid_layer = viewer.add_image(lipid_img, colormap = 'magenta', blending = 'additive')"
   ]
  },
  {
   "cell_type": "code",
   "execution_count": 713,
   "id": "7767e272-c724-4a67-8c6b-5b38ffe4f49d",
   "metadata": {},
   "outputs": [],
   "source": [
    "cv_mask = viewer.layers['Labels'].data\n",
    "cv_mask = np.where(cv_mask == 1, 0, 1)\n",
    "cv_edt = nd.distance_transform_edt(cv_mask)"
   ]
  },
  {
   "cell_type": "code",
   "execution_count": 714,
   "id": "e903c829-2c59-41ad-b127-4e80ef61153d",
   "metadata": {},
   "outputs": [],
   "source": [
    "cv_edt_layer = viewer.add_image(cv_edt, contrast_limits = [0, 65535])"
   ]
  },
  {
   "cell_type": "code",
   "execution_count": 715,
   "id": "177afb21-6f14-47f4-ac56-d75c24988b64",
   "metadata": {},
   "outputs": [],
   "source": [
    "cv_edt_path = os.path.join(output_path, img_list[img_index].replace('.tif', '_cv_edt.tif'))\n",
    "imwrite(cv_edt_path, cv_edt)\n",
    "\n",
    "viewer.close()"
   ]
  },
  {
   "cell_type": "markdown",
   "id": "0afd8ab9-9c20-453a-8bc0-3aa7a619f067",
   "metadata": {},
   "source": [
    "###### Portal vein EDT map"
   ]
  },
  {
   "cell_type": "code",
   "execution_count": 716,
   "id": "fd4452b0-faf0-4e65-af7a-d11171687daa",
   "metadata": {},
   "outputs": [],
   "source": [
    "viewer = napari.view_image(actin_img, colormap = 'red', blending = 'additive')\n",
    "mito_layer = viewer.add_image(mito_img, colormap = 'green', blending = 'additive')\n",
    "lipid_layer = viewer.add_image(lipid_img, colormap = 'magenta', blending = 'additive')"
   ]
  },
  {
   "cell_type": "code",
   "execution_count": 717,
   "id": "4cfadfa8-46d2-4e23-8548-0ad12e073725",
   "metadata": {},
   "outputs": [],
   "source": [
    "pv_mask = viewer.layers['Labels'].data\n",
    "pv_mask = np.where(pv_mask == 1, 0, 1)\n",
    "pv_edt = nd.distance_transform_edt(pv_mask)"
   ]
  },
  {
   "cell_type": "code",
   "execution_count": 718,
   "id": "06a606b0-dbc1-4528-a942-79137945f877",
   "metadata": {},
   "outputs": [],
   "source": [
    "pv_edt_layer = viewer.add_image(pv_edt, contrast_limits = [0, 65535])"
   ]
  },
  {
   "cell_type": "code",
   "execution_count": 719,
   "id": "bca05208-6b6a-4754-95fd-44413304a656",
   "metadata": {},
   "outputs": [],
   "source": [
    "pv_edt_path = os.path.join(output_path, img_list[img_index].replace('.tif', '_pv_edt.tif'))\n",
    "imwrite(pv_edt_path, pv_edt)\n",
    "\n",
    "viewer.close()"
   ]
  },
  {
   "cell_type": "markdown",
   "id": "35e2721f-bdbb-4f1c-9c08-032de785158e",
   "metadata": {},
   "source": [
    "###### Mitochondria EDT map"
   ]
  },
  {
   "cell_type": "code",
   "execution_count": 720,
   "id": "bbf98f72-bb3c-41dc-8e71-20d239384a4e",
   "metadata": {},
   "outputs": [],
   "source": [
    "mito_binary = np.where(mito_mask == 0, 1, 0)\n",
    "mito_edt = nd.distance_transform_edt(mito_binary)"
   ]
  },
  {
   "cell_type": "code",
   "execution_count": 721,
   "id": "bca8869d-f95a-42d6-837d-92895e25c5e6",
   "metadata": {},
   "outputs": [],
   "source": [
    "viewer = napari.view_image(actin_img, colormap = 'red', blending = 'additive')\n",
    "mito_layer = viewer.add_image(mito_img, colormap = 'green', blending = 'additive')\n",
    "lipid_layer = viewer.add_image(lipid_img, colormap = 'magenta', blending = 'additive')\n",
    "mito_edt_layer = viewer.add_image(mito_edt)"
   ]
  },
  {
   "cell_type": "code",
   "execution_count": 722,
   "id": "a013976d-ab1e-46d3-962f-d43de9a978e6",
   "metadata": {},
   "outputs": [],
   "source": [
    "mito_edt_path = os.path.join(output_path, img_list[img_index].replace('.tif', '_mito_edt.tif'))\n",
    "imwrite(mito_edt_path, mito_edt)\n",
    "\n",
    "viewer.close()"
   ]
  },
  {
   "cell_type": "markdown",
   "id": "924747d6-425c-4e07-85e8-7aefc676e394",
   "metadata": {},
   "source": [
    "###### Lipid EDT map"
   ]
  },
  {
   "cell_type": "code",
   "execution_count": 723,
   "id": "c35b93d6-1ec6-4e18-a5ac-e8e333ed4588",
   "metadata": {},
   "outputs": [],
   "source": [
    "lipid_binary = np.where(lipid_mask == 0, 1, 0)\n",
    "lipid_edt = nd.distance_transform_edt(lipid_binary)"
   ]
  },
  {
   "cell_type": "code",
   "execution_count": 724,
   "id": "8fcff6a6-1cb6-432a-a8f9-8a9db8fca04f",
   "metadata": {},
   "outputs": [],
   "source": [
    "viewer = napari.view_image(actin_img, colormap = 'red', blending = 'additive')\n",
    "mito_layer = viewer.add_image(mito_img, colormap = 'green', blending = 'additive')\n",
    "lipid_layer = viewer.add_image(lipid_img, colormap = 'magenta', blending = 'additive')\n",
    "lipid_edt_layer = viewer.add_image(lipid_edt)"
   ]
  },
  {
   "cell_type": "code",
   "execution_count": 725,
   "id": "8ddb3766-f113-48e9-9180-2fd196ecb405",
   "metadata": {},
   "outputs": [],
   "source": [
    "lipid_edt_path = os.path.join(output_path, img_list[img_index].replace('.tif', '_lipid_edt.tif'))\n",
    "imwrite(lipid_edt_path, lipid_edt)\n",
    "\n",
    "viewer.close()"
   ]
  },
  {
   "cell_type": "markdown",
   "id": "385b4bf9-3be9-4b2e-a132-de33e935fb2d",
   "metadata": {},
   "source": [
    "### Quantification----------------------------------------------------\n",
    "\n",
    "<a id='quantification'></a>"
   ]
  },
  {
   "cell_type": "markdown",
   "id": "df76e15d",
   "metadata": {},
   "source": [
    "###### Portal to central vein distance"
   ]
  },
  {
   "cell_type": "code",
   "execution_count": 970,
   "id": "158f46bf",
   "metadata": {},
   "outputs": [
    {
     "name": "stderr",
     "output_type": "stream",
     "text": [
      "100%|████████████████████████████████████████████████████████████████████████████████████| 1/1 [00:00<00:00,  2.28it/s]\n"
     ]
    }
   ],
   "source": [
    "pv_df_tmp = roi_quant(pv_mask, cell_mask, mito_img, lipid_img, cv_edt, pv_edt, mito_edt)"
   ]
  },
  {
   "cell_type": "code",
   "execution_count": 971,
   "id": "220c3b11",
   "metadata": {},
   "outputs": [
    {
     "name": "stdout",
     "output_type": "stream",
     "text": [
      "4207.83424103184\n"
     ]
    }
   ],
   "source": [
    "pv_cv_dist = pv_df_tmp['cv_max_dist'][0]\n",
    "\n",
    "print(pv_cv_dist)"
   ]
  },
  {
   "cell_type": "markdown",
   "id": "887d3ccf-f326-4869-91de-af45dd5162f4",
   "metadata": {},
   "source": [
    "###### Cell statistics"
   ]
  },
  {
   "cell_type": "code",
   "execution_count": 972,
   "id": "ad3701ab-ed8c-4d48-9161-d7943aea7f07",
   "metadata": {},
   "outputs": [
    {
     "name": "stderr",
     "output_type": "stream",
     "text": [
      "100%|████████████████████████████████████████████████████████████████████████████████| 108/108 [00:03<00:00, 28.24it/s]\n"
     ]
    }
   ],
   "source": [
    "cell_df_tmp = roi_quant(cell_mask, cell_mask, mito_img, lipid_img, cv_edt, pv_edt, mito_edt)"
   ]
  },
  {
   "cell_type": "code",
   "execution_count": 973,
   "id": "5f90bf2c-0061-4886-a370-48ccff010526",
   "metadata": {},
   "outputs": [
    {
     "name": "stdout",
     "output_type": "stream",
     "text": [
      "   cell_id  cell_area  cell_centroid_x  cell_centroid_y  cell_mito_int  \\\n",
      "0        1    11590.0       862.311907        36.183089      54.404918   \n",
      "1        2    23499.0      1046.306056        55.725776      55.780076   \n",
      "2        3    16461.0      1272.940951        34.444566      68.364802   \n",
      "3        4    69358.0      1546.880490       161.415136      58.434384   \n",
      "4        5    39972.0      1725.781822        78.483213      57.589663   \n",
      "\n",
      "   cell_lipid_int  cell_cv_min_dist  cell_cv_max_dist  cell_cv_mean_dist  \\\n",
      "0        3.951682       3232.634375       3415.578575        3317.178111   \n",
      "1        3.872761       3020.309421       3249.609977        3132.342625   \n",
      "2        4.595347       2789.393124       3040.481047        2908.040019   \n",
      "3        4.690649       2464.569942       2797.390570        2627.604679   \n",
      "4        3.310142       2311.493240       2614.688700        2453.549567   \n",
      "\n",
      "   cell_pv_min_dist  cell_pv_max_dist  cell_pv_mean_dist  \n",
      "0        393.288698        522.280576         451.991494  \n",
      "1        470.865161        655.823909         552.491699  \n",
      "2        610.940259        836.468768         723.214370  \n",
      "3        751.694752        970.878468         852.920774  \n",
      "4        941.616695       1183.138622        1041.586785  \n",
      "(108, 12)\n"
     ]
    }
   ],
   "source": [
    "cell_df = pd.DataFrame()\n",
    "cell_df['cell_id'] = cell_df_tmp['roi_id']\n",
    "cell_df['cell_area'] = cell_df_tmp['area']\n",
    "cell_df['cell_centroid_x'] = cell_df_tmp['centroid_x']\n",
    "cell_df['cell_centroid_y'] = cell_df_tmp['centroid_y']\n",
    "cell_df['cell_mito_int'] = cell_df_tmp['mito_int']\n",
    "cell_df['cell_lipid_int'] = cell_df_tmp['lipid_int']\n",
    "cell_df['cell_cv_min_dist'] = cell_df_tmp['cv_min_dist']\n",
    "cell_df['cell_cv_max_dist'] = cell_df_tmp['cv_max_dist']\n",
    "cell_df['cell_cv_mean_dist'] = cell_df_tmp['cv_mean_dist']\n",
    "cell_df['cell_pv_min_dist'] = cell_df_tmp['pv_min_dist']\n",
    "cell_df['cell_pv_max_dist'] = cell_df_tmp['pv_max_dist']\n",
    "cell_df['cell_pv_mean_dist'] = cell_df_tmp['pv_mean_dist']\n",
    "\n",
    "print(cell_df.head())\n",
    "print(cell_df.shape)"
   ]
  },
  {
   "cell_type": "markdown",
   "id": "5b2728cf-e503-45f4-89df-b71f94a4fd89",
   "metadata": {},
   "source": [
    "###### Mitochondria statistics"
   ]
  },
  {
   "cell_type": "code",
   "execution_count": null,
   "id": "4fe15c27-893c-4020-986a-c8529a3a5ed7",
   "metadata": {},
   "outputs": [
    {
     "name": "stderr",
     "output_type": "stream",
     "text": [
      " 93%|███████████████████████████████████████████████████████████████████████▍     | 7648/8244 [00:16<00:01, 469.13it/s]"
     ]
    }
   ],
   "source": [
    "mito_df_tmp = roi_quant(mito_mask, cell_mask, mito_img, lipid_img, cv_edt, pv_edt, lipid_edt)"
   ]
  },
  {
   "cell_type": "code",
   "execution_count": 948,
   "id": "5c8779df-1c78-4407-96f9-f184c362cbd5",
   "metadata": {},
   "outputs": [
    {
     "name": "stdout",
     "output_type": "stream",
     "text": [
      "   roi_id  cell_id   area  perimeter  eccentricity  solidity  \\\n",
      "0       1        0  267.0  60.284271      0.602512  0.956989   \n",
      "1       8        0   95.0  34.384776      0.610150  0.950000   \n",
      "2       9        0  128.0  40.384776      0.658208  0.962406   \n",
      "3      10        0  100.0  38.520815      0.805022  0.909091   \n",
      "4      31        0  136.0  44.384776      0.806179  0.931507   \n",
      "\n",
      "   axis_major_length  axis_minor_length  feret_diameter_max   centroid_x  ...  \\\n",
      "0          20.772306          16.578585           21.633308   185.089888  ...   \n",
      "1          12.423153           9.842691           13.341664   658.221053  ...   \n",
      "2          14.856726          11.184678           15.524175   694.062500  ...   \n",
      "3          14.909523           8.845006           15.524175   954.570000  ...   \n",
      "4          17.192779          10.172477           18.027756  2981.330882  ...   \n",
      "\n",
      "   cell_centroid_y  cell_mito_int  cell_lipid_int  cell_cv_min_dist  \\\n",
      "0              NaN            NaN             NaN               NaN   \n",
      "1              NaN            NaN             NaN               NaN   \n",
      "2              NaN            NaN             NaN               NaN   \n",
      "3              NaN            NaN             NaN               NaN   \n",
      "4              NaN            NaN             NaN               NaN   \n",
      "\n",
      "   cell_cv_max_dist  cell_cv_mean_dist  cell_pv_min_dist  cell_pv_max_dist  \\\n",
      "0               NaN                NaN               NaN               NaN   \n",
      "1               NaN                NaN               NaN               NaN   \n",
      "2               NaN                NaN               NaN               NaN   \n",
      "3               NaN                NaN               NaN               NaN   \n",
      "4               NaN                NaN               NaN               NaN   \n",
      "\n",
      "   cell_pv_mean_dist  organelle  \n",
      "0                NaN       mito  \n",
      "1                NaN       mito  \n",
      "2                NaN       mito  \n",
      "3                NaN       mito  \n",
      "4                NaN       mito  \n",
      "\n",
      "[5 rows x 34 columns]\n",
      "(8353, 34)\n"
     ]
    }
   ],
   "source": [
    "mito_df = mito_df_tmp.merge(cell_df, how = 'outer', on = 'cell_id')\n",
    "mito_df['organelle'] = 'mito'\n",
    "print(mito_df.head())\n",
    "print(mito_df.shape)"
   ]
  },
  {
   "cell_type": "markdown",
   "id": "2c2cb6b8-f6d8-485f-bff4-f9279f5316da",
   "metadata": {},
   "source": [
    "###### Lipid statistics"
   ]
  },
  {
   "cell_type": "code",
   "execution_count": 949,
   "id": "ec434131-b2bb-4ccd-9054-8990629101a1",
   "metadata": {},
   "outputs": [
    {
     "name": "stderr",
     "output_type": "stream",
     "text": [
      "100%|█████████████████████████████████████████████████████████████████████████████████| 41/41 [00:00<00:00, 390.59it/s]\n"
     ]
    }
   ],
   "source": [
    "lipid_df_tmp = roi_quant(lipid_mask, cell_mask, mito_img, lipid_img, cv_edt, pv_edt, mito_edt)"
   ]
  },
  {
   "cell_type": "code",
   "execution_count": 950,
   "id": "078eff55-25b5-496b-bb94-bc34dc81fb4c",
   "metadata": {},
   "outputs": [
    {
     "name": "stdout",
     "output_type": "stream",
     "text": [
      "   roi_id  cell_id    area   perimeter  eccentricity  solidity  \\\n",
      "0    21.0       10   562.0   87.497475      0.281889  0.967298   \n",
      "1    34.0        0   534.0   84.426407      0.389699  0.965642   \n",
      "2   154.0        0  1620.0  148.124892      0.425077  0.978852   \n",
      "3   737.0        0   800.0  103.497475      0.365061  0.973236   \n",
      "4   744.0        0   769.0  101.497475      0.455531  0.973418   \n",
      "\n",
      "   axis_major_length  axis_minor_length  feret_diameter_max   centroid_x  ...  \\\n",
      "0          27.360527          26.250979           28.861739  3356.679715  ...   \n",
      "1          27.214209          25.062721           28.301943  5106.911985  ...   \n",
      "2          47.764190          43.234098           50.328918  2912.625309  ...   \n",
      "3          33.098807          30.814440           34.438351  3982.925000  ...   \n",
      "4          33.166135          29.525146           34.438351  4048.932380  ...   \n",
      "\n",
      "   cell_centroid_y  cell_mito_int  cell_lipid_int  cell_cv_min_dist  \\\n",
      "0          42.6985      33.672048        5.793297        764.676402   \n",
      "1              NaN            NaN             NaN               NaN   \n",
      "2              NaN            NaN             NaN               NaN   \n",
      "3              NaN            NaN             NaN               NaN   \n",
      "4              NaN            NaN             NaN               NaN   \n",
      "\n",
      "   cell_cv_max_dist  cell_cv_mean_dist  cell_pv_min_dist  cell_pv_max_dist  \\\n",
      "0       1047.551908          893.32851       2694.833019       2975.223353   \n",
      "1               NaN                NaN               NaN               NaN   \n",
      "2               NaN                NaN               NaN               NaN   \n",
      "3               NaN                NaN               NaN               NaN   \n",
      "4               NaN                NaN               NaN               NaN   \n",
      "\n",
      "   cell_pv_mean_dist  organelle  \n",
      "0        2840.107012      lipid  \n",
      "1                NaN      lipid  \n",
      "2                NaN      lipid  \n",
      "3                NaN      lipid  \n",
      "4                NaN      lipid  \n",
      "\n",
      "[5 rows x 34 columns]\n",
      "(112, 34)\n"
     ]
    }
   ],
   "source": [
    "lipid_df = lipid_df_tmp.merge(cell_df, how = 'outer', on = 'cell_id')\n",
    "lipid_df['organelle'] = 'lipid'\n",
    "print(lipid_df.head())\n",
    "print(lipid_df.shape)"
   ]
  },
  {
   "cell_type": "markdown",
   "id": "045776ad",
   "metadata": {},
   "source": [
    "###### Overlap statistics"
   ]
  },
  {
   "cell_type": "code",
   "execution_count": 951,
   "id": "2c212cc9",
   "metadata": {},
   "outputs": [
    {
     "name": "stderr",
     "output_type": "stream",
     "text": [
      "100%|█████████████████████████████████████████████████████████████████████████████████| 17/17 [00:00<00:00, 309.19it/s]\n"
     ]
    }
   ],
   "source": [
    "overlap_df_tmp = roi_quant(overlap_mask, cell_mask, mito_img, lipid_img, cv_edt, pv_edt, mito_edt)"
   ]
  },
  {
   "cell_type": "code",
   "execution_count": 952,
   "id": "0770fcf5",
   "metadata": {
    "scrolled": true
   },
   "outputs": [
    {
     "name": "stdout",
     "output_type": "stream",
     "text": [
      "   cell_id  overlap_area\n",
      "0       10          40.0\n",
      "1       14          88.0\n",
      "2       34           3.0\n",
      "3       35          66.0\n",
      "4       36           8.0\n",
      "(17, 2)\n"
     ]
    }
   ],
   "source": [
    "overlap_df = pd.DataFrame() \n",
    "overlap_df['cell_id'] = overlap_df_tmp['roi_id']\n",
    "overlap_df['overlap_area'] = overlap_df_tmp['area']\n",
    "\n",
    "print(overlap_df.head())\n",
    "print(overlap_df.shape)"
   ]
  },
  {
   "cell_type": "markdown",
   "id": "d7dae617",
   "metadata": {},
   "source": [
    "###### Combine dataframes"
   ]
  },
  {
   "cell_type": "code",
   "execution_count": 953,
   "id": "2f8ccbf9-0960-488b-9ad6-0d289efb2a18",
   "metadata": {},
   "outputs": [
    {
     "name": "stdout",
     "output_type": "stream",
     "text": [
      "   roi_id  cell_id   area  perimeter  eccentricity  solidity  \\\n",
      "0     1.0        0  267.0  60.284271      0.602512  0.956989   \n",
      "1     8.0        0   95.0  34.384776      0.610150  0.950000   \n",
      "2     9.0        0  128.0  40.384776      0.658208  0.962406   \n",
      "3    10.0        0  100.0  38.520815      0.805022  0.909091   \n",
      "4    31.0        0  136.0  44.384776      0.806179  0.931507   \n",
      "\n",
      "   axis_major_length  axis_minor_length  feret_diameter_max   centroid_x  ...  \\\n",
      "0          20.772306          16.578585           21.633308   185.089888  ...   \n",
      "1          12.423153           9.842691           13.341664   658.221053  ...   \n",
      "2          14.856726          11.184678           15.524175   694.062500  ...   \n",
      "3          14.909523           8.845006           15.524175   954.570000  ...   \n",
      "4          17.192779          10.172477           18.027756  2981.330882  ...   \n",
      "\n",
      "   cell_lipid_int  cell_cv_min_dist  cell_cv_max_dist  cell_cv_mean_dist  \\\n",
      "0             NaN               NaN               NaN                NaN   \n",
      "1             NaN               NaN               NaN                NaN   \n",
      "2             NaN               NaN               NaN                NaN   \n",
      "3             NaN               NaN               NaN                NaN   \n",
      "4             NaN               NaN               NaN                NaN   \n",
      "\n",
      "   cell_pv_min_dist  cell_pv_max_dist  cell_pv_mean_dist  organelle  \\\n",
      "0               NaN               NaN                NaN       mito   \n",
      "1               NaN               NaN                NaN       mito   \n",
      "2               NaN               NaN                NaN       mito   \n",
      "3               NaN               NaN                NaN       mito   \n",
      "4               NaN               NaN                NaN       mito   \n",
      "\n",
      "   overlap_area   pv_cv_dist  \n",
      "0           NaN  4178.851517  \n",
      "1           NaN  4178.851517  \n",
      "2           NaN  4178.851517  \n",
      "3           NaN  4178.851517  \n",
      "4           NaN  4178.851517  \n",
      "\n",
      "[5 rows x 36 columns]\n",
      "(8465, 36)\n"
     ]
    }
   ],
   "source": [
    "df = pd.concat([mito_df, lipid_df])\n",
    "df = df.merge(overlap_df, how = 'outer', on = 'cell_id')\n",
    "df['pv_cv_dist'] = pv_cv_dist\n",
    "\n",
    "print(df.head())\n",
    "print(df.shape)"
   ]
  },
  {
   "cell_type": "code",
   "execution_count": 954,
   "id": "578274f2-ec63-498b-beaf-5eb5cb136574",
   "metadata": {},
   "outputs": [],
   "source": [
    "df_path = os.path.join(output_path, img_list[img_index].replace('.tif', '_output.csv'))\n",
    "df.to_csv(df_path, header = True)"
   ]
  },
  {
   "cell_type": "markdown",
   "id": "e67695f5-91f4-4a63-98b1-81c9b339e626",
   "metadata": {},
   "source": [
    "[Load another image](#load_cell) [Set new path](#set_path) [New mito seg](#mito_path) [New lipid seg](#lipid_path)"
   ]
  },
  {
   "cell_type": "markdown",
   "id": "0dcf1244",
   "metadata": {},
   "source": [
    "### Test---------------------------------"
   ]
  },
  {
   "cell_type": "code",
   "execution_count": 75,
   "id": "e4025c93",
   "metadata": {},
   "outputs": [
    {
     "name": "stdout",
     "output_type": "stream",
     "text": [
      "(7413, 3)\n",
      "   relative_cell_cv_dist  ring  roi_id\n",
      "0               0.976487     1       1\n",
      "1               0.976487     1       1\n",
      "2               0.976487     1       1\n",
      "3               0.976487     1       1\n",
      "4               0.976487     1       1\n"
     ]
    }
   ],
   "source": [
    "df_tmp = pd.DataFrame()\n",
    "df_tmp['relative_cell_cv_dist'] = df['cell_cv_max_dist'] / df['pv_cv_dist']\n",
    "    \n",
    "conditions = [\n",
    "    df_tmp['relative_cell_cv_dist'].gt(11/12),\n",
    "    df_tmp['relative_cell_cv_dist'].gt(10/12) & df_tmp['relative_cell_cv_dist'].le(11/12),\n",
    "    df_tmp['relative_cell_cv_dist'].gt(9/12) & df_tmp['relative_cell_cv_dist'].le(10/12),\n",
    "    df_tmp['relative_cell_cv_dist'].gt(8/12) & df_tmp['relative_cell_cv_dist'].le(9/12),\n",
    "    df_tmp['relative_cell_cv_dist'].gt(7/12) & df_tmp['relative_cell_cv_dist'].le(8/12),\n",
    "    df_tmp['relative_cell_cv_dist'].gt(6/12) & df_tmp['relative_cell_cv_dist'].le(7/12),\n",
    "    df_tmp['relative_cell_cv_dist'].gt(5/12) & df_tmp['relative_cell_cv_dist'].le(6/12),\n",
    "    df_tmp['relative_cell_cv_dist'].gt(4/12) & df_tmp['relative_cell_cv_dist'].le(5/12),\n",
    "    df_tmp['relative_cell_cv_dist'].gt(3/12) & df_tmp['relative_cell_cv_dist'].le(4/12),\n",
    "    df_tmp['relative_cell_cv_dist'].gt(2/12) & df_tmp['relative_cell_cv_dist'].le(3/12),\n",
    "    df_tmp['relative_cell_cv_dist'].gt(1/12) & df_tmp['relative_cell_cv_dist'].le(2/12),\n",
    "    df_tmp['relative_cell_cv_dist'].ge(0) & df_tmp['relative_cell_cv_dist'].le(1/12)\n",
    "]\n",
    "    \n",
    "choices = [1, 2, 3, 4, 5, 6, 7, 8, 9, 10, 11, 12]\n",
    "    \n",
    "df_tmp['ring'] = np.select(conditions, choices)\n",
    "df_tmp['roi_id'] = df['cell_id']\n",
    "\n",
    "print(df_tmp.shape)\n",
    "print(df_tmp.head())"
   ]
  },
  {
   "cell_type": "code",
   "execution_count": 78,
   "id": "55e522d5",
   "metadata": {},
   "outputs": [
    {
     "name": "stdout",
     "output_type": "stream",
     "text": [
      "(1207298171, 3)\n",
      "   roi_id  relative_cell_cv_dist  ring\n",
      "0       0                    NaN     0\n",
      "1       0                    NaN     0\n",
      "2       0                    NaN     0\n",
      "3       0                    NaN     0\n",
      "4       0                    NaN     0\n"
     ]
    }
   ],
   "source": [
    "roi_id = cell_mask.reshape(-1)\n",
    "mask_df = pd.DataFrame()\n",
    "mask_df['roi_id'] = roi_id\n",
    "mask_df = pd.merge(mask_df, df_tmp, how = 'left', on = ['roi_id'])\n",
    "\n",
    "print(mask_df.shape)\n",
    "print(mask_df.head())"
   ]
  },
  {
   "cell_type": "code",
   "execution_count": 80,
   "id": "e36202c3",
   "metadata": {},
   "outputs": [
    {
     "name": "stdout",
     "output_type": "stream",
     "text": [
      "(1452, 5208)\n",
      "7562016\n"
     ]
    }
   ],
   "source": [
    "print(cell_mask.shape)\n",
    "roi_id = cell_mask.reshape(-1)\n",
    "print(len(roi_id))"
   ]
  },
  {
   "cell_type": "code",
   "execution_count": 81,
   "id": "b30affa1",
   "metadata": {},
   "outputs": [
    {
     "name": "stdout",
     "output_type": "stream",
     "text": [
      "(7562016, 1)\n"
     ]
    }
   ],
   "source": [
    "mask_df = pd.DataFrame()\n",
    "mask_df['roi_id'] = roi_id\n",
    "\n",
    "print(mask_df.shape)"
   ]
  },
  {
   "cell_type": "code",
   "execution_count": null,
   "id": "6c5b605e",
   "metadata": {},
   "outputs": [],
   "source": [
    "mask_df2 = pd.merge(mask_df, df_tmp, how = 'left', on =['roi_id'])\n",
    "\n",
    "print(mask_df2.shape)"
   ]
  },
  {
   "cell_type": "code",
   "execution_count": 84,
   "id": "19dd7b8d",
   "metadata": {},
   "outputs": [
    {
     "name": "stdout",
     "output_type": "stream",
     "text": [
      "   relative_cell_cv_dist  ring  roi_id\n",
      "0               0.976487     1       1\n",
      "1               0.976487     1       1\n",
      "2               0.976487     1       1\n",
      "3               0.976487     1       1\n",
      "4               0.976487     1       1\n"
     ]
    }
   ],
   "source": [
    "print(df_tmp.head())"
   ]
  },
  {
   "cell_type": "code",
   "execution_count": null,
   "id": "3a03406c",
   "metadata": {},
   "outputs": [],
   "source": [
    "mask = mask_df['ring'].to_numpy()\n",
    "mask = mask.reshape(cell_mask.shape)\n",
    "mask = np.uint16(mask)"
   ]
  },
  {
   "cell_type": "markdown",
   "id": "c2854e2a",
   "metadata": {},
   "source": [
    "### Load segmentation\n",
    "\n",
    "###### Using existing segmentation files\n",
    "\n",
    "<a id='alt_function'></a>"
   ]
  },
  {
   "cell_type": "markdown",
   "id": "160253cf",
   "metadata": {},
   "source": [
    "### Set paths\n",
    "\n",
    "<a id='alt_set_path'></a>"
   ]
  },
  {
   "cell_type": "code",
   "execution_count": null,
   "id": "21315120",
   "metadata": {},
   "outputs": [],
   "source": [
    "# Define file paths--------------------------------------------------------------------------\n",
    "\n",
    "input_path = input('Input path: ')\n",
    "output_path = input('Output path: ')"
   ]
  },
  {
   "cell_type": "code",
   "execution_count": null,
   "id": "09110867",
   "metadata": {},
   "outputs": [],
   "source": [
    "input_path = os.path.normpath(input_path)\n",
    "output_path = os.path.normpath(output_path)"
   ]
  },
  {
   "cell_type": "markdown",
   "id": "2c62c26e",
   "metadata": {},
   "source": [
    "### Load image\n",
    "\n",
    "<a id='alt_load_image'></a>"
   ]
  },
  {
   "cell_type": "code",
   "execution_count": null,
   "id": "dbce19bd",
   "metadata": {},
   "outputs": [],
   "source": [
    "# Load image-----------------------------------------------------------------------------------------------\n",
    "tmp_list = os.listdir(input_path)\n",
    "\n",
    "img_list = [] \n",
    "for tmp in tmp_list:\n",
    "    if re.search('.tif', tmp):\n",
    "        img_list.append(tmp)\n",
    "        \n",
    "print(img_list)\n",
    "print(len(img_list))\n",
    "img_index = input('Select image: ')\n",
    "img_index = int(img_index) - 1\n",
    "print(img_list[img_index])"
   ]
  },
  {
   "cell_type": "code",
   "execution_count": null,
   "id": "56cb550e",
   "metadata": {},
   "outputs": [],
   "source": [
    "img_path = os.path.join(input_path, img_list[img_index])\n",
    "img = imread(img_path)\n",
    "\n",
    "actin_ch_number = int(input('Input actin channel: ')) - 1\n",
    "mito_ch_number = int(input('Input mitochondria channel: ')) - 1\n",
    "lipid_ch_number = int(input('Input lipid channel: ')) - 1"
   ]
  },
  {
   "cell_type": "code",
   "execution_count": null,
   "id": "91288976",
   "metadata": {},
   "outputs": [],
   "source": [
    "actin_img = img[actin_ch_number, :, :]\n",
    "mito_img = img[mito_ch_number, :, :]\n",
    "lipid_img = img[lipid_ch_number, :, :]"
   ]
  },
  {
   "cell_type": "code",
   "execution_count": null,
   "id": "eefa8be4",
   "metadata": {},
   "outputs": [],
   "source": [
    "cell_mask_path = os.path.join(output_path, img_list[img_index].replace('.tif', '_cell.tif'))\n",
    "cell_mask = imread(cell_mask_path)\n",
    "\n",
    "mito_mask_path = os.path.join(output_path, img_list[img_index].replace('.tif', '_mito.tif'))\n",
    "mito_mask = imread(mito_mask_path)\n",
    "\n",
    "lipid_mask_path = os.path.join(output_path, img_list[img_index].replace('.tif', '_lipid.tif'))\n",
    "lipid_mask = imread(lipid_mask_path)\n",
    "\n",
    "cv_edt_path = os.path.join(output_path, img_list[img_index].replace('.tif', '_cv_edt.tif'))\n",
    "cv_edt = imread(cv_edt_path)\n",
    "\n",
    "pv_edt_path = os.path.join(output_path, img_list[img_index].replace('.tif', '_pv_edt.tif'))\n",
    "pv_edt = imread(pv_edt_path)\n",
    "\n",
    "pv_mask = np.where(pv_edt == 0, 1, 0)\n",
    "\n",
    "mito_edt_path = os.path.join(output_path, img_list[img_index].replace('.tif', '_mito_edt.tif'))\n",
    "mito_edt = imread(mito_edt_path)\n",
    "\n",
    "lipid_edt_path = os.path.join(output_path, img_list[img_index].replace('.tif', '_lipid_edt.tif'))\n",
    "lipid_edt = imread(lipid_edt_path)"
   ]
  },
  {
   "cell_type": "markdown",
   "id": "ee4d99f9",
   "metadata": {},
   "source": [
    "[Go to quantification](#quantification)"
   ]
  },
  {
   "cell_type": "markdown",
   "id": "91549d66-13f7-4f0b-8a14-53561b5b6910",
   "metadata": {},
   "source": [
    "### Remake mitochondria segmentation"
   ]
  },
  {
   "cell_type": "markdown",
   "id": "b52159e6-8d60-4319-a76e-e0f3a84bee84",
   "metadata": {},
   "source": [
    "### Set paths"
   ]
  },
  {
   "cell_type": "code",
   "execution_count": 3,
   "id": "9986809f-0187-4154-bc03-479db8d53e0e",
   "metadata": {},
   "outputs": [
    {
     "name": "stdin",
     "output_type": "stream",
     "text": [
      "Cell model path:  Z:/Analysis/[NCI] [TGIMB] Natalie Porat-Shliom/Lauryn Brown/training/cell/models/brownl_cell_01\n",
      "Mito model path:  Z:/Analysis/[NCI] [TGIMB] Natalie Porat-Shliom/Lauryn Brown/training/mito/models/brownl_mito_03\n",
      "Lipid model path:  Z:/Analysis/[NCI] [TGIMB] Natalie Porat-Shliom/Lauryn Brown/training/lipid/models/brownl_lipid_01\n"
     ]
    }
   ],
   "source": [
    "# Define model paths--------------------------------------------------------------------------------------\n",
    "\n",
    "cell_model_path = input('Cell model path: ')\n",
    "mito_model_path = input('Mito model path: ')\n",
    "lipid_model_path = input('Lipid model path: ')"
   ]
  },
  {
   "cell_type": "code",
   "execution_count": 319,
   "id": "ac86a82b-0eac-4332-8ca9-ecb21d01e526",
   "metadata": {},
   "outputs": [
    {
     "name": "stdin",
     "output_type": "stream",
     "text": [
      "Input path:  Z:\\Analysis\\[NCI] [TGIMB] Natalie Porat-Shliom\\Lauryn Brown\\images\\PLIN5 variants in ND\\PLIN5 (1-424)\n",
      "Output path:  Z:\\Analysis\\[NCI] [TGIMB] Natalie Porat-Shliom\\Lauryn Brown\\output\\PLIN5 variants in ND\\PLIN5 (1-424)\n"
     ]
    }
   ],
   "source": [
    "# Define file paths--------------------------------------------------------------------------\n",
    "\n",
    "input_path = input('Input path: ')\n",
    "output_path = input('Output path: ')"
   ]
  },
  {
   "cell_type": "code",
   "execution_count": 320,
   "id": "996dfb05-c88d-41af-95e8-7f01073f4742",
   "metadata": {},
   "outputs": [],
   "source": [
    "input_path = os.path.normpath(input_path)\n",
    "output_path = os.path.normpath(output_path)\n",
    "\n",
    "cell_model_path = os.path.normpath(cell_model_path)\n",
    "mito_model_path = os.path.normpath(mito_model_path)\n",
    "lipid_model_path = os.path.normpath(lipid_model_path)\n",
    "\n",
    "cell_model = models.CellposeModel(gpu = True, pretrained_model = cell_model_path)\n",
    "mito_model = models.CellposeModel(gpu = True, pretrained_model = mito_model_path)\n",
    "lipid_model = models.CellposeModel(gpu = True, pretrained_model = lipid_model_path)"
   ]
  },
  {
   "cell_type": "markdown",
   "id": "aade6241-bbd9-484b-9984-4fd0d49504f3",
   "metadata": {},
   "source": [
    "### Load image\n",
    "\n",
    "<a id='mito_path'></a>"
   ]
  },
  {
   "cell_type": "code",
   "execution_count": 347,
   "id": "92e7fbea-713a-4049-aecf-362fb68cafad",
   "metadata": {},
   "outputs": [
    {
     "name": "stdout",
     "output_type": "stream",
     "text": [
      "['3916C M1_L1_Cropped PP-PC Axis 1.tif', '3916C M1_L1_Cropped PP-PC Axis 2.tif', '3916C M1_L2_Cropped PP-PC Axis 3.tif', '3916C M1_L2_Cropped PP-PC Axis 4.tif', '3916C M1_L2_Cropped PP-PC Axis 5.tif', '3916C M1_L3_Cropped PP-PC Axis 6.tif', '3917A M2_L1_Cropped PP-PC Axis 1.tif', '3917A M2_L1_Cropped PP-PC Axis 2.tif', '3917A M2_L2_Cropped PP-PC Axis 3.tif', '3917A M2_L2_Cropped PP-PC Axis 4.tif', '3917A M2_L3_Cropped PP-PC Axis 5.tif', '3917A M2_L3_Cropped PP-PC Axis 6.tif']\n",
      "12\n"
     ]
    },
    {
     "name": "stdin",
     "output_type": "stream",
     "text": [
      "Select image:  2\n"
     ]
    },
    {
     "name": "stdout",
     "output_type": "stream",
     "text": [
      "3916C M1_L1_Cropped PP-PC Axis 2.tif\n"
     ]
    }
   ],
   "source": [
    "# Load image-----------------------------------------------------------------------------------------------\n",
    "tmp_list = os.listdir(input_path)\n",
    "\n",
    "img_list = [] \n",
    "for tmp in tmp_list:\n",
    "    if re.search('.tif', tmp):\n",
    "        img_list.append(tmp)\n",
    "        \n",
    "print(img_list)\n",
    "print(len(img_list))\n",
    "img_index = input('Select image: ')\n",
    "img_index = int(img_index) - 1\n",
    "print(img_list[img_index])"
   ]
  },
  {
   "cell_type": "code",
   "execution_count": 348,
   "id": "9d398eff-7288-4a16-88ff-7f76a538dda3",
   "metadata": {
    "scrolled": true
   },
   "outputs": [
    {
     "name": "stdout",
     "output_type": "stream",
     "text": [
      "(3, 1437, 5196)\n"
     ]
    }
   ],
   "source": [
    "img_path = os.path.join(input_path, img_list[img_index])\n",
    "img = imread(img_path)\n",
    "\n",
    "print(img.shape)\n",
    "\n",
    "viewer = napari.view_image(img)"
   ]
  },
  {
   "cell_type": "code",
   "execution_count": 349,
   "id": "3f389465-a9e2-4dfd-a98a-06f0734640d4",
   "metadata": {},
   "outputs": [
    {
     "name": "stdin",
     "output_type": "stream",
     "text": [
      "Input actin channel:  3\n",
      "Input mitochondria channel:  1\n",
      "Input lipid channel:  2\n"
     ]
    }
   ],
   "source": [
    "actin_ch_number = int(input('Input actin channel: ')) - 1\n",
    "mito_ch_number = int(input('Input mitochondria channel: ')) - 1\n",
    "lipid_ch_number = int(input('Input lipid channel: ')) - 1\n",
    "\n",
    "viewer.close()"
   ]
  },
  {
   "cell_type": "code",
   "execution_count": 350,
   "id": "6dd7522a-7666-4745-9219-b3d9c749b307",
   "metadata": {},
   "outputs": [],
   "source": [
    "actin_img = img[actin_ch_number, :, :]\n",
    "mito_img = img[mito_ch_number, :, :]\n",
    "lipid_img = img[lipid_ch_number, :, :]"
   ]
  },
  {
   "cell_type": "code",
   "execution_count": 351,
   "id": "4e1f2931-a05f-405a-898b-8e95085345e3",
   "metadata": {},
   "outputs": [],
   "source": [
    "cell_mask_path = os.path.join(output_path, img_list[img_index].replace('.tif', '_cell.tif'))\n",
    "cell_mask = imread(cell_mask_path)\n",
    "\n",
    "#mito_mask_path = os.path.join(output_path, img_list[img_index].replace('.tif', '_mito.tif'))\n",
    "#mito_mask = imread(mito_mask_path)\n",
    "\n",
    "lipid_mask_path = os.path.join(output_path, img_list[img_index].replace('.tif', '_lipid.tif'))\n",
    "lipid_mask = imread(lipid_mask_path)\n",
    "\n",
    "cv_edt_path = os.path.join(output_path, img_list[img_index].replace('.tif', '_cv_edt.tif'))\n",
    "cv_edt = imread(cv_edt_path)\n",
    "\n",
    "pv_edt_path = os.path.join(output_path, img_list[img_index].replace('.tif', '_pv_edt.tif'))\n",
    "pv_edt = imread(pv_edt_path)\n",
    "\n",
    "pv_mask = np.where(pv_edt == 0, 1, 0)\n",
    "\n",
    "#mito_edt_path = os.path.join(output_path, img_list[img_index].replace('.tif', '_mito_edt.tif'))\n",
    "#mito_edt = imread(mito_edt_path)\n",
    "\n",
    "lipid_edt_path = os.path.join(output_path, img_list[img_index].replace('.tif', '_lipid_edt.tif'))\n",
    "lipid_edt = imread(lipid_edt_path)"
   ]
  },
  {
   "cell_type": "markdown",
   "id": "735e0e3e-01ed-4887-b33b-ed3c14bc2316",
   "metadata": {},
   "source": [
    "### Mitochondria segmentation"
   ]
  },
  {
   "cell_type": "code",
   "execution_count": 352,
   "id": "40a5d8df-4d54-4a04-8acd-01fad154214e",
   "metadata": {},
   "outputs": [],
   "source": [
    "mito_mask = model_apply(mito_model, mito_img)\n",
    "mito_mask = np.uint16(mito_mask)"
   ]
  },
  {
   "cell_type": "code",
   "execution_count": 353,
   "id": "9dbbe7eb-8247-4239-9d67-3fc4d97a0c57",
   "metadata": {},
   "outputs": [],
   "source": [
    "viewer = napari.view_image(mito_img, colormap = 'green', blending = 'additive')\n",
    "mito_layer = viewer.add_labels(mito_mask)"
   ]
  },
  {
   "cell_type": "code",
   "execution_count": 354,
   "id": "d93056b0-50ae-4cc7-b8f0-5263c74f7756",
   "metadata": {},
   "outputs": [],
   "source": [
    "mito_mask_path = os.path.join(output_path, img_list[img_index].replace('.tif', '_mito.tif'))\n",
    "imwrite(mito_mask_path, mito_mask)\n",
    "\n",
    "viewer.close()"
   ]
  },
  {
   "cell_type": "markdown",
   "id": "4d8affd8-9f55-4f81-9c88-967356c20754",
   "metadata": {},
   "source": [
    "### Overlap"
   ]
  },
  {
   "cell_type": "code",
   "execution_count": 355,
   "id": "5bf1cce3-dfd0-49a9-9d99-714fe6614fcd",
   "metadata": {},
   "outputs": [],
   "source": [
    "mito_binary = np.where(mito_mask > 0, 1, 0)\n",
    "lipid_binary = np.where(lipid_mask > 0 , 1, 0)\n",
    "\n",
    "overlap_tmp = np.add(mito_binary, lipid_binary)\n",
    "overlap_mask = np.where(overlap_tmp == 2, cell_mask, 0)"
   ]
  },
  {
   "cell_type": "code",
   "execution_count": 356,
   "id": "05d52625-2be8-4423-a5d2-88fd9774bd4f",
   "metadata": {},
   "outputs": [],
   "source": [
    "viewer = napari.view_image(actin_img, colormap = 'red', blending = 'additive')\n",
    "mito_layer = viewer.add_image(mito_img, colormap = 'green', blending = 'additive')\n",
    "lipid_layer = viewer.add_image(lipid_img, colormap = 'magenta', blending = 'additive')\n",
    "overlap_layer = viewer.add_labels(overlap_mask)\n",
    "cell_layer = viewer.add_labels(cell_mask)"
   ]
  },
  {
   "cell_type": "code",
   "execution_count": 357,
   "id": "df68ac89-d2e8-44c3-beda-a277119c677d",
   "metadata": {},
   "outputs": [],
   "source": [
    "overlap_mask_path = os.path.join(output_path, img_list[img_index].replace('.tif', '_overlap.tif'))\n",
    "imwrite(overlap_mask_path, overlap_mask)\n",
    "\n",
    "viewer.close()"
   ]
  },
  {
   "cell_type": "markdown",
   "id": "4dc4777e-b1fe-41e2-8f31-d3a83ae1045c",
   "metadata": {},
   "source": [
    "###### Mitochondria EDT map"
   ]
  },
  {
   "cell_type": "code",
   "execution_count": 358,
   "id": "3f2f2021-e1fc-4f23-b60b-4982ea8317a6",
   "metadata": {},
   "outputs": [],
   "source": [
    "mito_binary = np.where(mito_mask == 0, 1, 0)\n",
    "mito_edt = nd.distance_transform_edt(mito_binary)"
   ]
  },
  {
   "cell_type": "code",
   "execution_count": 359,
   "id": "50b97a6c-139b-4bc4-be30-19f78d4920cc",
   "metadata": {},
   "outputs": [],
   "source": [
    "viewer = napari.view_image(actin_img, colormap = 'red', blending = 'additive')\n",
    "mito_layer = viewer.add_image(mito_img, colormap = 'green', blending = 'additive')\n",
    "lipid_layer = viewer.add_image(lipid_img, colormap = 'magenta', blending = 'additive')\n",
    "mito_edt_layer = viewer.add_image(mito_edt)"
   ]
  },
  {
   "cell_type": "code",
   "execution_count": 360,
   "id": "fd6181de-8d9a-4793-a30d-6fba361c33d8",
   "metadata": {},
   "outputs": [],
   "source": [
    "mito_edt_path = os.path.join(output_path, img_list[img_index].replace('.tif', '_mito_edt.tif'))\n",
    "imwrite(mito_edt_path, mito_edt)\n",
    "\n",
    "viewer.close()"
   ]
  },
  {
   "cell_type": "markdown",
   "id": "bac6299d-4165-44a1-bd5a-1c133fe1ab89",
   "metadata": {},
   "source": [
    "[Go to quantification](#quantification)"
   ]
  },
  {
   "cell_type": "markdown",
   "id": "5091f1fe-75ab-4faf-b084-1ab2c513621c",
   "metadata": {},
   "source": [
    "### Remake lipid segmentation"
   ]
  },
  {
   "cell_type": "markdown",
   "id": "21dcae12-2cc7-449e-8712-6f12afcb145b",
   "metadata": {},
   "source": [
    "### Set paths"
   ]
  },
  {
   "cell_type": "code",
   "execution_count": 3,
   "id": "478806c9-94de-4aac-9a16-8bd4f64030fd",
   "metadata": {},
   "outputs": [
    {
     "name": "stdin",
     "output_type": "stream",
     "text": [
      "Cell model path:  Z:/Analysis/[NCI] [TGIMB] Natalie Porat-Shliom/Lauryn Brown/training/cell/models/brownl_cell_01\n",
      "Mito model path:  Z:/Analysis/[NCI] [TGIMB] Natalie Porat-Shliom/Lauryn Brown/training/mito/models/brownl_mito_03\n",
      "Lipid model path:  Z:/Analysis/[NCI] [TGIMB] Natalie Porat-Shliom/Lauryn Brown/training/lipid/models/brownl_lipid_01\n"
     ]
    }
   ],
   "source": [
    "# Define model paths--------------------------------------------------------------------------------------\n",
    "\n",
    "cell_model_path = input('Cell model path: ')\n",
    "mito_model_path = input('Mito model path: ')\n",
    "lipid_model_path = input('Lipid model path: ')"
   ]
  },
  {
   "cell_type": "code",
   "execution_count": 656,
   "id": "d8cac4c9-dd33-4049-b643-00ed7ca12c1e",
   "metadata": {},
   "outputs": [
    {
     "name": "stdin",
     "output_type": "stream",
     "text": [
      "Input path:  Z:\\Analysis\\[NCI] [TGIMB] Natalie Porat-Shliom\\Lauryn Brown\\images\\PLIN5 variants in ND\\PLIN5E (1-424)\n",
      "Output path:  Z:\\Analysis\\[NCI] [TGIMB] Natalie Porat-Shliom\\Lauryn Brown\\output\\PLIN5 variants in ND\\PLIN5E (1-424)\n"
     ]
    }
   ],
   "source": [
    "# Define file paths--------------------------------------------------------------------------\n",
    "\n",
    "input_path = input('Input path: ')\n",
    "output_path = input('Output path: ')"
   ]
  },
  {
   "cell_type": "code",
   "execution_count": 657,
   "id": "253e9a6c-680f-472c-b918-498dbcfb2b22",
   "metadata": {},
   "outputs": [],
   "source": [
    "input_path = os.path.normpath(input_path)\n",
    "output_path = os.path.normpath(output_path)\n",
    "\n",
    "cell_model_path = os.path.normpath(cell_model_path)\n",
    "mito_model_path = os.path.normpath(mito_model_path)\n",
    "lipid_model_path = os.path.normpath(lipid_model_path)\n",
    "\n",
    "cell_model = models.CellposeModel(gpu = True, pretrained_model = cell_model_path)\n",
    "mito_model = models.CellposeModel(gpu = True, pretrained_model = mito_model_path)\n",
    "lipid_model = models.CellposeModel(gpu = True, pretrained_model = lipid_model_path)"
   ]
  },
  {
   "cell_type": "markdown",
   "id": "e0ef4418-48b1-4ea4-9150-dd1a68420315",
   "metadata": {},
   "source": [
    "### Load image\n",
    "\n",
    "<a id='lipid_path'></a>"
   ]
  },
  {
   "cell_type": "code",
   "execution_count": 955,
   "id": "e6b27bec-56e1-40f1-a8ce-0eb35ad488df",
   "metadata": {},
   "outputs": [
    {
     "name": "stdout",
     "output_type": "stream",
     "text": [
      "['3907C M1_L1_Cropped PP-PC Axis 1.tif', '3907C M1_L2_Cropped PP-PC Axis 2.tif', '3907C M1_L2_Cropped PP-PC Axis 3.tif', '3907C M1_L2_Cropped PP-PC Axis 4.tif', '3907C M1_L3_Cropped PP-PC Axis 5.tif', '3907C M1_L3_Cropped PP-PC Axis 6.tif', '3920E M2_L1_Cropped PP-Pc Axis 1.tif', '3920E M2_L1_Cropped PP-PC Axis 2.tif', '3920E M2_L1_Cropped PP-PC Axis 3.tif', '3920E M2_L1_Cropped PP-PC Axis 4.tif', '3920E M2_L2_Cropped PP-PC Axis 5.tif', '3920E M2_L2_Cropped PP-PC Axis 6.tif']\n",
      "12\n"
     ]
    },
    {
     "name": "stdin",
     "output_type": "stream",
     "text": [
      "Select image:  12\n"
     ]
    },
    {
     "name": "stdout",
     "output_type": "stream",
     "text": [
      "3920E M2_L2_Cropped PP-PC Axis 6.tif\n"
     ]
    }
   ],
   "source": [
    "# Load image-----------------------------------------------------------------------------------------------\n",
    "tmp_list = os.listdir(input_path)\n",
    "\n",
    "img_list = [] \n",
    "for tmp in tmp_list:\n",
    "    if re.search('.tif', tmp):\n",
    "        img_list.append(tmp)\n",
    "        \n",
    "print(img_list)\n",
    "print(len(img_list))\n",
    "img_index = input('Select image: ')\n",
    "img_index = int(img_index) - 1\n",
    "print(img_list[img_index])"
   ]
  },
  {
   "cell_type": "code",
   "execution_count": 956,
   "id": "c757b1b9-376f-4b11-9a5e-cf258fb33573",
   "metadata": {
    "scrolled": true
   },
   "outputs": [
    {
     "name": "stdout",
     "output_type": "stream",
     "text": [
      "(3, 1440, 5184)\n"
     ]
    }
   ],
   "source": [
    "img_path = os.path.join(input_path, img_list[img_index])\n",
    "img = imread(img_path)\n",
    "\n",
    "print(img.shape)\n",
    "\n",
    "viewer = napari.view_image(img)"
   ]
  },
  {
   "cell_type": "code",
   "execution_count": 957,
   "id": "9c5e50f3-c4fb-43e0-bc24-c09ab0b577b9",
   "metadata": {},
   "outputs": [
    {
     "name": "stdin",
     "output_type": "stream",
     "text": [
      "Input actin channel:  3\n",
      "Input mitochondria channel:  1\n",
      "Input lipid channel:  2\n"
     ]
    }
   ],
   "source": [
    "actin_ch_number = int(input('Input actin channel: ')) - 1\n",
    "mito_ch_number = int(input('Input mitochondria channel: ')) - 1\n",
    "lipid_ch_number = int(input('Input lipid channel: ')) - 1\n",
    "\n",
    "viewer.close()"
   ]
  },
  {
   "cell_type": "code",
   "execution_count": 958,
   "id": "03388293-2ed2-453a-ba59-958094cf4c2f",
   "metadata": {},
   "outputs": [],
   "source": [
    "actin_img = img[actin_ch_number, :, :]\n",
    "mito_img = img[mito_ch_number, :, :]\n",
    "lipid_img = img[lipid_ch_number, :, :]"
   ]
  },
  {
   "cell_type": "code",
   "execution_count": 959,
   "id": "2a815d76-9e1a-4285-8f10-858ddd880ba7",
   "metadata": {},
   "outputs": [],
   "source": [
    "cell_mask_path = os.path.join(output_path, img_list[img_index].replace('.tif', '_cell.tif'))\n",
    "cell_mask = imread(cell_mask_path)\n",
    "\n",
    "mito_mask_path = os.path.join(output_path, img_list[img_index].replace('.tif', '_mito.tif'))\n",
    "mito_mask = imread(mito_mask_path)\n",
    "\n",
    "#lipid_mask_path = os.path.join(output_path, img_list[img_index].replace('.tif', '_lipid.tif'))\n",
    "#lipid_mask = imread(lipid_mask_path)\n",
    "\n",
    "cv_edt_path = os.path.join(output_path, img_list[img_index].replace('.tif', '_cv_edt.tif'))\n",
    "cv_edt = imread(cv_edt_path)\n",
    "\n",
    "pv_edt_path = os.path.join(output_path, img_list[img_index].replace('.tif', '_pv_edt.tif'))\n",
    "pv_edt = imread(pv_edt_path)\n",
    "\n",
    "pv_mask = np.where(pv_edt == 0, 1, 0)\n",
    "\n",
    "mito_edt_path = os.path.join(output_path, img_list[img_index].replace('.tif', '_mito_edt.tif'))\n",
    "mito_edt = imread(mito_edt_path)\n",
    "\n",
    "#lipid_edt_path = os.path.join(output_path, img_list[img_index].replace('.tif', '_lipid_edt.tif'))\n",
    "#lipid_edt = imread(lipid_edt_path)"
   ]
  },
  {
   "cell_type": "markdown",
   "id": "621beede-8cae-426c-8ebd-812c8a0aa5c2",
   "metadata": {},
   "source": [
    "### Lipid segmentation"
   ]
  },
  {
   "cell_type": "code",
   "execution_count": 960,
   "id": "3fd7c46a-d6d4-436e-98fb-41901de4c609",
   "metadata": {},
   "outputs": [
    {
     "name": "stderr",
     "output_type": "stream",
     "text": [
      "100%|███████████████████████████████████████████████████████████████████████████| 1551/1551 [00:00<00:00, 41932.23it/s]\n"
     ]
    }
   ],
   "source": [
    "lipid_mask_tmp = model_apply(lipid_model, lipid_img)\n",
    "lipid_mask_tmp = np.uint16(lipid_mask_tmp)\n",
    "\n",
    "lipid_df_tmp = object_quant(lipid_mask_tmp, lipid_img)\n",
    "lipid_mask = object_filter(lipid_mask_tmp, lipid_df_tmp, 20)"
   ]
  },
  {
   "cell_type": "code",
   "execution_count": 961,
   "id": "9db7030e-3c83-4f09-bb19-26122e1d1627",
   "metadata": {},
   "outputs": [],
   "source": [
    "viewer = napari.view_image(lipid_img, colormap = 'magenta', blending = 'additive')\n",
    "lipid_layer = viewer.add_labels(lipid_mask)"
   ]
  },
  {
   "cell_type": "code",
   "execution_count": 962,
   "id": "399e9fd1-567a-4327-8247-9649c3b7923a",
   "metadata": {},
   "outputs": [],
   "source": [
    "lipid_mask = viewer.layers['lipid_mask'].data"
   ]
  },
  {
   "cell_type": "code",
   "execution_count": 963,
   "id": "78cd7a2c-19a1-4a23-8814-f8779091f30c",
   "metadata": {},
   "outputs": [],
   "source": [
    "lipid_mask_path = os.path.join(output_path, img_list[img_index].replace('.tif', '_lipid.tif'))\n",
    "imwrite(lipid_mask_path, lipid_mask)\n",
    "\n",
    "viewer.close()"
   ]
  },
  {
   "cell_type": "markdown",
   "id": "22090a3e-845f-4be5-bd51-7120cdf2d67f",
   "metadata": {},
   "source": [
    "### Overlap"
   ]
  },
  {
   "cell_type": "code",
   "execution_count": 964,
   "id": "aafdab40-4c4f-4e74-9bac-81c179794c93",
   "metadata": {},
   "outputs": [],
   "source": [
    "mito_binary = np.where(mito_mask > 0, 1, 0)\n",
    "lipid_binary = np.where(lipid_mask > 0 , 1, 0)\n",
    "\n",
    "overlap_tmp = np.add(mito_binary, lipid_binary)\n",
    "overlap_mask = np.where(overlap_tmp == 2, cell_mask, 0)"
   ]
  },
  {
   "cell_type": "code",
   "execution_count": 965,
   "id": "93f70733-a8bf-4899-9a33-0dfdd3fb6153",
   "metadata": {},
   "outputs": [],
   "source": [
    "viewer = napari.view_image(actin_img, colormap = 'red', blending = 'additive')\n",
    "mito_layer = viewer.add_image(mito_img, colormap = 'green', blending = 'additive')\n",
    "lipid_layer = viewer.add_image(lipid_img, colormap = 'magenta', blending = 'additive')\n",
    "overlap_layer = viewer.add_labels(overlap_mask)\n",
    "cell_layer = viewer.add_labels(cell_mask)"
   ]
  },
  {
   "cell_type": "code",
   "execution_count": 966,
   "id": "a1fa6308-ef6c-4634-a213-565e8533c40e",
   "metadata": {},
   "outputs": [],
   "source": [
    "overlap_mask_path = os.path.join(output_path, img_list[img_index].replace('.tif', '_overlap.tif'))\n",
    "imwrite(overlap_mask_path, overlap_mask)\n",
    "\n",
    "viewer.close()"
   ]
  },
  {
   "cell_type": "markdown",
   "id": "cc480195-8cd1-41e0-a65c-26cf46e5df0e",
   "metadata": {},
   "source": [
    "###### Lipid EDT map"
   ]
  },
  {
   "cell_type": "code",
   "execution_count": 967,
   "id": "1fc5464a-aa7b-4086-85f8-a0807ccdf76b",
   "metadata": {},
   "outputs": [],
   "source": [
    "lipid_binary = np.where(lipid_mask == 0, 1, 0)\n",
    "lipid_edt = nd.distance_transform_edt(lipid_binary)"
   ]
  },
  {
   "cell_type": "code",
   "execution_count": 968,
   "id": "77cbb9cf-3d2e-4441-8dc9-178eb86757e7",
   "metadata": {},
   "outputs": [],
   "source": [
    "viewer = napari.view_image(actin_img, colormap = 'red', blending = 'additive')\n",
    "mito_layer = viewer.add_image(mito_img, colormap = 'green', blending = 'additive')\n",
    "lipid_layer = viewer.add_image(lipid_img, colormap = 'magenta', blending = 'additive')\n",
    "lipid_edt_layer = viewer.add_image(lipid_edt)"
   ]
  },
  {
   "cell_type": "code",
   "execution_count": 969,
   "id": "8c39735d-da0b-46f0-a93a-9ab993d87bdc",
   "metadata": {},
   "outputs": [],
   "source": [
    "lipid_edt_path = os.path.join(output_path, img_list[img_index].replace('.tif', '_lipid_edt.tif'))\n",
    "imwrite(lipid_edt_path, lipid_edt)\n",
    "\n",
    "viewer.close()"
   ]
  },
  {
   "cell_type": "markdown",
   "id": "2398ebe9-c493-4153-bef1-403241ce2312",
   "metadata": {},
   "source": [
    "[Go to quantification](#quantification)"
   ]
  },
  {
   "cell_type": "code",
   "execution_count": null,
   "id": "93e5fcef-ca19-4349-a3c4-241e49fc0ef0",
   "metadata": {},
   "outputs": [],
   "source": []
  }
 ],
 "metadata": {
  "kernelspec": {
   "display_name": "Python 3 (ipykernel)",
   "language": "python",
   "name": "python3"
  },
  "language_info": {
   "codemirror_mode": {
    "name": "ipython",
    "version": 3
   },
   "file_extension": ".py",
   "mimetype": "text/x-python",
   "name": "python",
   "nbconvert_exporter": "python",
   "pygments_lexer": "ipython3",
   "version": "3.9.18"
  }
 },
 "nbformat": 4,
 "nbformat_minor": 5
}
